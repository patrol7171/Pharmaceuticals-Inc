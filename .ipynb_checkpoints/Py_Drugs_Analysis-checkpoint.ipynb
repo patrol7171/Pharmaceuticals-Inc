{
 "cells": [
  {
   "cell_type": "markdown",
   "metadata": {},
   "source": [
    "***\n",
    "# <font color=blue>**Pymaceuticals, Inc**</font> \n",
    "***"
   ]
  },
  {
   "cell_type": "markdown",
   "metadata": {},
   "source": [
    "## Squamous Cell Carcinoma Drug Treatment Analysis"
   ]
  },
  {
   "cell_type": "markdown",
   "metadata": {},
   "source": [
    "### *Observed Trends:* \n",
    "\n",
    "1. *The Capumolin drug was the only treatment that resulted in a reduction in tumor volume over time as well as the \n",
    "    highest survival rate for lab mice over time*\n",
    "1. *The survival rates of the test mice declined rapidly over time*\n",
    "1. *The number of cancer-spreading sites increased over time for each treatment*"
   ]
  },
  {
   "cell_type": "code",
   "execution_count": null,
   "metadata": {},
   "outputs": [],
   "source": [
    "import pandas as pd\n",
    "import numpy as np\n",
    "import matplotlib.pyplot as plt\n",
    "from matplotlib.legend import Legend\n",
    "from scipy.stats import sem\n",
    "\n",
    "target_drugs = ['Capomulin', 'Infubinol', 'Ketapril', 'Placebo']\n",
    "num_of_target_drugs = len(target_drugs)"
   ]
  },
  {
   "cell_type": "code",
   "execution_count": null,
   "metadata": {},
   "outputs": [],
   "source": [
    "#Disable autoscrolling for images or graphs\n",
    "%%javascript\n",
    "IPython.OutputArea.prototype._should_scroll = function(lines) {\n",
    "    return false;\n",
    "}"
   ]
  },
  {
   "cell_type": "code",
   "execution_count": null,
   "metadata": {},
   "outputs": [],
   "source": [
    "ct_data_df = pd.read_csv(\"raw_data/clinicaltrial_data.csv\", low_memory=False)\n",
    "md_data_df = pd.read_csv(\"raw_data/mouse_drug_data.csv\", low_memory=False)\n",
    "combined_data_df = pd.merge(ct_data_df, md_data_df, how='outer', on='Mouse ID')\n",
    "combined_data_df.head()"
   ]
  },
  {
   "cell_type": "markdown",
   "metadata": {},
   "source": [
    "<br>\n",
    "<br>\n",
    "### Tumor Response to Treatment"
   ]
  },
  {
   "cell_type": "code",
   "execution_count": null,
   "metadata": {
    "scrolled": true
   },
   "outputs": [],
   "source": [
    "new_mean_df_grouped = combined_data_df.groupby([\"Drug\", \"Timepoint\"])[['Tumor Volume (mm3)']].mean()\n",
    "new_mean_df_grouped"
   ]
  },
  {
   "cell_type": "code",
   "execution_count": null,
   "metadata": {},
   "outputs": [],
   "source": [
    "new_sem_df_grouped = combined_data_df.groupby([\"Drug\", \"Timepoint\"])[['Tumor Volume (mm3)']].sem()\n",
    "new_sem_df_grouped.head(15)"
   ]
  },
  {
   "cell_type": "code",
   "execution_count": null,
   "metadata": {},
   "outputs": [],
   "source": [
    "tumor_vol_mean_df = new_mean_df_grouped.pivot_table(index=[\"Timepoint\"], values=[\"Tumor Volume (mm3)\"], columns=[\"Drug\"])\n",
    "tumor_vol_mean_df.head()"
   ]
  },
  {
   "cell_type": "code",
   "execution_count": null,
   "metadata": {},
   "outputs": [],
   "source": [
    "tumor_vol_sem_df = new_sem_df_grouped.pivot_table(index=[\"Timepoint\"], values=[\"Tumor Volume (mm3)\"], columns=[\"Drug\"])\n",
    "tumor_vol_sem_df.head()"
   ]
  },
  {
   "cell_type": "code",
   "execution_count": null,
   "metadata": {},
   "outputs": [],
   "source": [
    "target_drugs_tumor_vol_mean_df = tumor_vol_mean_df.loc[:, ('Tumor Volume (mm3)', target_drugs)]\n",
    "print(target_drugs_tumor_vol_mean_df)\n",
    "\n",
    "vol_list = list((target_drugs_tumor_vol_mean_df.as_matrix(columns=target_drugs_tumor_vol_mean_df.columns[0:1])).flatten())\n",
    "drug_group_mean_vol = vol_list\n",
    "\n",
    "for i in range(num_of_target_drugs - 1):\n",
    "    vol_list = list((target_drugs_tumor_vol_mean_df.as_matrix(columns=target_drugs_tumor_vol_mean_df.columns[i+1:i+2])).flatten())\n",
    "    drug_group_mean_vol = np.vstack([drug_group_mean_vol, vol_list])\n",
    "    \n",
    "#print('------------------------------------------------------------------------')\n",
    "#print(drug_group_mean_vol)"
   ]
  },
  {
   "cell_type": "code",
   "execution_count": null,
   "metadata": {
    "scrolled": true
   },
   "outputs": [],
   "source": [
    "target_drugs_tumor_vol_sem_df = tumor_vol_sem_df.loc[:, ('Tumor Volume (mm3)', target_drugs)]\n",
    "print(target_drugs_tumor_vol_sem_df)\n",
    "\n",
    "vol_list2 = list((target_drugs_tumor_vol_sem_df.as_matrix(columns=target_drugs_tumor_vol_sem_df.columns[0:1])).flatten())\n",
    "drug_group_sem_vol = vol_list2\n",
    "\n",
    "for i in range(num_of_target_drugs - 1):\n",
    "    vol_list2 = list((target_drugs_tumor_vol_sem_df.as_matrix(columns=target_drugs_tumor_vol_sem_df.columns[i+1:i+2])).flatten())\n",
    "    drug_group_sem_vol = np.vstack([drug_group_sem_vol, vol_list2])\n",
    "\n",
    "#print('---------------------------------------------------------------------')\n",
    "#print(drug_group_sem_vol)"
   ]
  },
  {
   "cell_type": "code",
   "execution_count": null,
   "metadata": {},
   "outputs": [],
   "source": [
    "time_values = list(target_drugs_tumor_vol_mean_df.index.get_level_values('Timepoint'))\n",
    "print(time_values)"
   ]
  },
  {
   "cell_type": "code",
   "execution_count": null,
   "metadata": {
    "scrolled": false
   },
   "outputs": [],
   "source": [
    "fig, ax = plt.subplots(figsize=(12,8))\n",
    "fig.suptitle(\"Tumor Response To Treatment\", fontsize=11)\n",
    "\n",
    "x_axis = np.arange(0, len(time_values), 1)\n",
    "ax.margins(0.05)\n",
    "ax.grid(ls='dashed')\n",
    "ax.set_xlim(-0.5, len(time_values))\n",
    "ax.set_ylim(25, 75)\n",
    "ax.set_xticks(range(0, len(time_values)))\n",
    "ax.set_xticklabels(time_values)\n",
    "ax.set_ylabel(\"Tumor Volume\")\n",
    "ax.set_xlabel(\"Time (Days)\")\n",
    "\n",
    "for name, means, sems in zip(target_drugs, drug_group_mean_vol, drug_group_sem_vol):\n",
    "    plot_color = np.random.rand(3,)\n",
    "    ax.scatter(x_axis, means, s=90, marker='s', label=name, c=plot_color)\n",
    "    ax.plot(x_axis, means, '--', ms=12, c=plot_color)\n",
    "    ax.errorbar(x_axis, means, yerr=sems, fmt='o', c='#000000')\n",
    "\n",
    "ax.legend(loc=\"best\", fontsize=\"medium\", fancybox=True, shadow=True, borderpad=1)\n",
    "\n",
    "plt.show()\n"
   ]
  },
  {
   "cell_type": "markdown",
   "metadata": {},
   "source": [
    "<br>\n",
    "<br>\n",
    "### Metastatic Response to Treatment "
   ]
  },
  {
   "cell_type": "code",
   "execution_count": null,
   "metadata": {},
   "outputs": [],
   "source": [
    "meta_df_grouped = combined_data_df.groupby([\"Drug\", \"Timepoint\"])[['Metastatic Sites']].mean()\n",
    "meta_df_grouped.head()"
   ]
  },
  {
   "cell_type": "code",
   "execution_count": null,
   "metadata": {},
   "outputs": [],
   "source": [
    "meta_sem_df_grouped = combined_data_df.groupby([\"Drug\", \"Timepoint\"])[['Metastatic Sites']].sem()\n",
    "meta_sem_df_grouped.head()"
   ]
  },
  {
   "cell_type": "code",
   "execution_count": null,
   "metadata": {},
   "outputs": [],
   "source": [
    "meta_df2 = meta_df_grouped.pivot_table(index=[\"Timepoint\"], values=[\"Metastatic Sites\"], columns=[\"Drug\"])\n",
    "meta_df2.head()"
   ]
  },
  {
   "cell_type": "code",
   "execution_count": null,
   "metadata": {},
   "outputs": [],
   "source": [
    "meta_sem_df2 = meta_sem_df_grouped.pivot_table(index=[\"Timepoint\"], values=[\"Metastatic Sites\"], columns=[\"Drug\"])\n",
    "meta_sem_df2.head()"
   ]
  },
  {
   "cell_type": "code",
   "execution_count": null,
   "metadata": {},
   "outputs": [],
   "source": [
    "target_drugs_meta_mean_df = meta_df2.loc[:, ('Metastatic Sites', target_drugs)]\n",
    "print(target_drugs_meta_mean_df)\n",
    "print('---------------------------------------------------------------------')\n",
    "\n",
    "meta_list = list((target_drugs_meta_mean_df.as_matrix(columns=target_drugs_meta_mean_df.columns[0:1])).flatten())\n",
    "drug_group_mean_meta = meta_list\n",
    "\n",
    "for i in range(num_of_target_drugs - 1):\n",
    "    meta_list = list((target_drugs_meta_mean_df.as_matrix(columns=target_drugs_meta_mean_df.columns[i+1:i+2])).flatten())\n",
    "    drug_group_mean_meta = np.vstack([drug_group_mean_meta, meta_list]) \n",
    "\n",
    "target_drugs_meta_sem_df = meta_sem_df2.loc[:, ('Metastatic Sites', target_drugs)]\n",
    "print(target_drugs_meta_sem_df)\n",
    "print('---------------------------------------------------------------------')\n",
    "\n",
    "meta_list = list((target_drugs_meta_sem_df.as_matrix(columns=target_drugs_meta_sem_df.columns[0:1])).flatten())\n",
    "drug_group_sem_meta = meta_list\n",
    "\n",
    "for i in range(num_of_target_drugs - 1):\n",
    "    meta_list = list((target_drugs_meta_sem_df.as_matrix(columns=target_drugs_meta_sem_df.columns[i+1:i+2])).flatten())\n",
    "    drug_group_sem_meta = np.vstack([drug_group_sem_meta, meta_list])\n",
    "    \n",
    "time_values = list(target_drugs_meta_mean_df.index.get_level_values('Timepoint'))"
   ]
  },
  {
   "cell_type": "code",
   "execution_count": null,
   "metadata": {},
   "outputs": [],
   "source": [
    "fig2, ax2 = plt.subplots(figsize=(12,8))\n",
    "fig2.suptitle(\"Metastatic Spread During Treatment\", fontsize=14)\n",
    "\n",
    "x_axis = np.arange(0, len(time_values), 1)\n",
    "ax2.margins(0.05)\n",
    "ax2.grid(ls='dashed')\n",
    "ax2.set_xlim(-0.5, len(time_values))\n",
    "ax2.set_ylim(0.0, 4.0)\n",
    "ax2.set_xticks(range(0, len(time_values)))\n",
    "ax2.set_xticklabels(time_values)\n",
    "ax2.set_ylabel(\"Metastatic Sites\")\n",
    "ax2.set_xlabel(\"Time (Days)\")\n",
    "\n",
    "for name, means, sems in zip(target_drugs, drug_group_mean_meta, drug_group_sem_meta):\n",
    "    plot_color = np.random.rand(3,)\n",
    "    ax2.scatter(x_axis, means, s=90, marker='s', label=name, c=plot_color)\n",
    "    ax2.plot(x_axis, means, '--', ms=12, c=plot_color)\n",
    "    ax2.errorbar(x_axis, means, yerr=sems, fmt='o', c='#000000')\n",
    "\n",
    "ax2.legend(loc=\"best\", fontsize=\"medium\", fancybox=True, shadow=True, borderpad=1)\n",
    "\n",
    "plt.show()"
   ]
  },
  {
   "cell_type": "markdown",
   "metadata": {},
   "source": [
    "<br>\n",
    "<br>\n",
    "### Survival Rates"
   ]
  },
  {
   "cell_type": "code",
   "execution_count": null,
   "metadata": {},
   "outputs": [],
   "source": [
    "survived_df_grouped = combined_data_df.groupby([\"Drug\", \"Timepoint\"])[['Mouse ID']].count()\n",
    "survived_df_grouped = survived_df_grouped.rename(columns={\"Mouse ID\":\"Mouse Count\"})\n",
    "survived_df_grouped.head()"
   ]
  },
  {
   "cell_type": "code",
   "execution_count": null,
   "metadata": {},
   "outputs": [],
   "source": [
    "survived_df2 = survived_df_grouped.pivot_table(index=[\"Timepoint\"], values=[\"Mouse Count\"], columns=[\"Drug\"])\n",
    "survived_df2.head()"
   ]
  },
  {
   "cell_type": "code",
   "execution_count": null,
   "metadata": {},
   "outputs": [],
   "source": [
    "target_drugs_survived_df = survived_df2.loc[:, ('Mouse Count', target_drugs)]\n",
    "print(target_drugs_survived_df)\n",
    "\n",
    "target_percent_survived_df = target_drugs_survived_df.apply(lambda x:100 * x / target_drugs_survived_df.iloc[0,0])\n",
    "\n",
    "percent_survived_list = list((target_percent_survived_df.as_matrix(columns=target_percent_survived_df.columns[0:1])).flatten())\n",
    "percent_survived = percent_survived_list\n",
    "\n",
    "for i in range(num_of_target_drugs - 1):\n",
    "    percent_survived_list = list((target_percent_survived_df.as_matrix(columns=target_percent_survived_df.columns[i+1:i+2])).flatten())\n",
    "    percent_survived = np.vstack([percent_survived, percent_survived_list])\n",
    "    \n",
    "#print(percent_survived)"
   ]
  },
  {
   "cell_type": "code",
   "execution_count": null,
   "metadata": {},
   "outputs": [],
   "source": [
    "fig3, ax3 = plt.subplots(figsize=(12,8))\n",
    "fig3.suptitle(\"Survival During Treatment\", fontsize=14)\n",
    "\n",
    "x_axis = np.arange(0, len(time_values), 1)\n",
    "ax3.margins(0.05)\n",
    "ax3.grid(ls='dashed')\n",
    "ax3.set_xlim(-0.5, len(time_values))\n",
    "ax3.set_ylim(30, 100)\n",
    "ax3.set_xticks(range(0, len(time_values)))\n",
    "ax3.set_xticklabels(time_values)\n",
    "ax3.set_ylabel(\"Survival Rate (%)\")\n",
    "ax3.set_xlabel(\"Time (Days)\")\n",
    "\n",
    "for name, count in zip(target_drugs, percent_survived):\n",
    "    plot_color = np.random.rand(3,)\n",
    "    ax3.scatter(x_axis, count, s=90, marker='s', label=name, c=plot_color)\n",
    "    ax3.plot(x_axis, count, '--', ms=12, c=plot_color)\n",
    "    ax3.errorbar(x_axis, count, yerr=sems, fmt='o', c='#000000')\n",
    "\n",
    "ax3.legend(loc=\"best\", fontsize=\"medium\", fancybox=True, shadow=True, borderpad=1)\n",
    "\n",
    "plt.show()\n"
   ]
  },
  {
   "cell_type": "markdown",
   "metadata": {},
   "source": [
    "<br>\n",
    "<br>\n",
    "### Summary Bar Graph"
   ]
  },
  {
   "cell_type": "code",
   "execution_count": null,
   "metadata": {},
   "outputs": [],
   "source": [
    "tumor_vol_start = (new_mean_df_grouped.iloc[new_mean_df_grouped.index.get_level_values('Timepoint') == 0]).unstack(level=1)\n",
    "tumor_vol_start.columns = tumor_vol_start.columns.droplevel()\n",
    "\n",
    "tumor_vol_end = (new_mean_df_grouped.iloc[new_mean_df_grouped.index.get_level_values('Timepoint') == 45]).unstack(level=1)\n",
    "tumor_vol_end.columns = tumor_vol_end.columns.droplevel()\n",
    "\n",
    "tumor_vol_chng = pd.concat([tumor_vol_start,tumor_vol_end], axis=1)\n",
    "tumor_vol_chng.columns.name = None\n",
    "\n",
    "tumor_vol_perc_chng = (1-(tumor_vol_chng.iloc[:,0].div(tumor_vol_chng.iloc[:,1], axis=0))).mul(100)\n",
    "print(tumor_vol_perc_chng)"
   ]
  },
  {
   "cell_type": "code",
   "execution_count": null,
   "metadata": {},
   "outputs": [],
   "source": [
    "target_drugs_perc_chng = tumor_vol_perc_chng.loc[target_drugs].tolist()\n",
    "target_drugs_x = ['0','Capomulin', 'Infubinol', 'Ketapril', 'Placebo']\n",
    "\n",
    "tumor_vol_chng_plot = pd.DataFrame({'perc' : target_drugs_perc_chng})\n",
    "tumor_vol_chng_plot['colors'] = 'g'\n",
    "tumor_vol_chng_plot.loc[tumor_vol_chng_plot.perc>=0,'colors'] = 'r'\n",
    "\n",
    "fig4, ax4 = plt.subplots(figsize=(12, 8))\n",
    "fig4.suptitle(\"Tumor Change Over 45-day Treatment\", fontsize=14)\n",
    "\n",
    "x_axis = np.arange(len(target_drugs))\n",
    "ax4.bar(tumor_vol_chng_plot.index, tumor_vol_chng_plot.perc, color=tumor_vol_chng_plot.colors, align='center', edgecolor='black')\n",
    "ax4.grid(ls='dashed')\n",
    "ax4.set_xlim(-0.5, len(x_axis))\n",
    "ax4.set_ylim(-20, max(target_drugs_perc_chng))\n",
    "ax4.set_ylabel(\"% Tumor Volume Change\")\n",
    "ax4.set_xticklabels(target_drugs_x)\n",
    "ax4.set_xticks([value + 1.5 for value in x_axis], target_drugs)\n",
    "\n",
    "plt.show()\n"
   ]
  }
 ],
 "metadata": {
  "kernelspec": {
   "display_name": "Python 3",
   "language": "python",
   "name": "python3"
  },
  "language_info": {
   "codemirror_mode": {
    "name": "ipython",
    "version": 3
   },
   "file_extension": ".py",
   "mimetype": "text/x-python",
   "name": "python",
   "nbconvert_exporter": "python",
   "pygments_lexer": "ipython3",
   "version": "3.6.4"
  }
 },
 "nbformat": 4,
 "nbformat_minor": 2
}
